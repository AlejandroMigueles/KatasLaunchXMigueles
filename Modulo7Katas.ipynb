{
 "cells": [
  {
   "cell_type": "markdown",
   "metadata": {},
   "source": [
    "Ejercicio 1: Creación de un bucle \"while\"\n",
    "Ejercicio 1: Uso de ciclos while en Python"
   ]
  },
  {
   "cell_type": "code",
   "execution_count": 18,
   "metadata": {},
   "outputs": [
    {
     "name": "stdout",
     "output_type": "stream",
     "text": [
      "para dejar de ingresar planetas escriba la palabra 'done' (tal y como está)\n",
      "Ingrese un nuevo plante con la primer letra en mayúscula\n",
      "La lista que ingresó es:\n",
      "['Agua', 'Coca', 'Té', 'Chicle']\n"
     ]
    }
   ],
   "source": [
    "new_planet=\"\"\n",
    "planets=[]\n",
    "\n",
    "\n",
    "###Definimos la variable user_input (Para guardar lo que el usuario va a escribir)\n",
    "#mientras(while) lo que el usuario escriba(user_input), convertido a minúsculas(.lower()) sea diferente de(!=) la palabra 'done' quiero que: \n",
    "#Guardes en la variable user_input(user_input =), lo que el usuario escriba (input), muestra un texto de ejemplo para el usuario('Enter a new value, or done when done').\n",
    "\n",
    "print(\"para dejar de ingresar planetas escriba la palabra 'done' (tal y como está)\")\n",
    "print(\"Ingrese un nuevo plante con la primer letra en mayúscula\")\n",
    "# Escribe el ciclo while solicitado\n",
    "while new_planet.lower() != \"done\":\n",
    "    if new_planet:\n",
    "        planets.append(new_planet)\n",
    "    new_planet = input(\"Ingrese un nuevo planeta\")\n",
    "print(\"La lista que ingresó es:\")\n",
    "print(planets)\n"
   ]
  },
  {
   "cell_type": "markdown",
   "metadata": {},
   "source": [
    "Ejercicio 2: Creación de un ciclo \"for\"\n",
    "Ejercicio: - Ciclo para una lista\n"
   ]
  },
  {
   "cell_type": "code",
   "execution_count": 24,
   "metadata": {},
   "outputs": [
    {
     "name": "stdout",
     "output_type": "stream",
     "text": [
      "Agua\n",
      "Coca\n",
      "Té\n",
      "Chicle\n",
      "Estamos listos 🌕🚀\n"
     ]
    }
   ],
   "source": [
    "\n",
    "\n",
    "for planet in planets:\n",
    "    print(planet)\n",
    "print(\"Estamos listos 🌕🚀\")\n"
   ]
  }
 ],
 "metadata": {
  "interpreter": {
   "hash": "8b4ee018b645261ec7b9ea66dbf654b9d2ae3de7b40191a59970037beb747771"
  },
  "kernelspec": {
   "display_name": "Python 3.10.1 64-bit",
   "language": "python",
   "name": "python3"
  },
  "language_info": {
   "codemirror_mode": {
    "name": "ipython",
    "version": 3
   },
   "file_extension": ".py",
   "mimetype": "text/x-python",
   "name": "python",
   "nbconvert_exporter": "python",
   "pygments_lexer": "ipython3",
   "version": "3.10.1"
  },
  "orig_nbformat": 4
 },
 "nbformat": 4,
 "nbformat_minor": 2
}
