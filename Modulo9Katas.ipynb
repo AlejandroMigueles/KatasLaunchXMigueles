{
 "cells": [
  {
   "cell_type": "markdown",
   "metadata": {},
   "source": [
    "Ejercicio: Uso de funciones en Python\n",
    "Ejercicio 1: Trabajar con argumentos en funciones"
   ]
  },
  {
   "cell_type": "code",
   "execution_count": 24,
   "metadata": {},
   "outputs": [
    {
     "name": "stdout",
     "output_type": "stream",
     "text": [
      "Informe de combustible:\n",
      "    Total Average: 78.33333333333333%\n",
      "    Tanque 1: 80%\n",
      "    Tanque 2: 70%\n",
      "    tanque 3: 85% \n"
     ]
    }
   ],
   "source": [
    "# Defino mi función\n",
    "def reporteCombustible(tanque1, tanque2, tanque3):\n",
    "    combustibleTotal=(tanque1+tanque2+tanque3)\n",
    "    promedioTotal=combustibleTotal/3\n",
    "    return f\"\"\"Informe de combustible:\n",
    "    Total Average: {promedioTotal}%\n",
    "    Tanque 1: {tanque1}%\n",
    "    Tanque 2: {tanque2}%\n",
    "    tanque 3: {tanque3}% \"\"\"\n",
    "# Llamamos a la función que genera el reporte print(funcion(tanque1, tanque2, tanque3))\n",
    "print(reporteCombustible(80, 70, 85))"
   ]
  },
  {
   "cell_type": "code",
   "execution_count": 25,
   "metadata": {},
   "outputs": [
    {
     "name": "stdout",
     "output_type": "stream",
     "text": [
      "50.0\n"
     ]
    }
   ],
   "source": [
    "# Función promedio\n",
    "def funcionPromedio(tanque1, tanque2, tanque3):\n",
    "    return (tanque1+tanque2+tanque3)/3\n",
    "promedio=funcionPromedio\n",
    "\n",
    "print(funcionPromedio(50,50,50))\n",
    "    "
   ]
  },
  {
   "cell_type": "code",
   "execution_count": 29,
   "metadata": {},
   "outputs": [
    {
     "name": "stdout",
     "output_type": "stream",
     "text": [
      "Informe de combustible:\n",
      "    Total Average: 50.0%\n",
      "    Tanque 1: 100%\n",
      "    Tanque 2: 30%\n",
      "    tanque 3: 20% \n"
     ]
    }
   ],
   "source": [
    "# Actualiza la función\n",
    "def reporteCombustible(tanque1, tanque2, tanque3):\n",
    "    return f\"\"\"Informe de combustible:\n",
    "    Total Average: {funcionPromedio(tanque1, tanque2, tanque3)}%\n",
    "    Tanque 1: {tanque1}%\n",
    "    Tanque 2: {tanque2}%\n",
    "    tanque 3: {tanque3}% \"\"\"\n",
    "# Llamamos a la función que genera el reporte print(funcion(tanque1, tanque2, tanque3))\n",
    "print(reporteCombustible(100,30, 20))"
   ]
  },
  {
   "cell_type": "markdown",
   "metadata": {},
   "source": [
    "Ejercicio 2: Trabajo con argumentos de palabra clave\n",
    "Ejercicio : Trabajar con argumentos de palabras clave en funciones"
   ]
  },
  {
   "cell_type": "code",
   "execution_count": 32,
   "metadata": {},
   "outputs": [
    {
     "name": "stdout",
     "output_type": "stream",
     "text": [
      "\n",
      "    Nos dirigimos a Saturno\n",
      "    El tiempo de vuelo previsto es de: 45 minutos\n",
      "    El combustible restante es de: 178 litros\n",
      "    \n"
     ]
    }
   ],
   "source": [
    "# Función con un informe preciso de la misión.\n",
    "# Considera hora de prelanzamiento, tiempo de vuelo, destino, tanque externo y tanque interno\n",
    "def InformeGeneral(tiempoLanzamiento, tiempoVuelo, destino, tanqueExterno, tanqueInterno):\n",
    "    return f\"\"\"\n",
    "    Nos dirigimos a {destino}\n",
    "    El tiempo de vuelo previsto es de: {tiempoLanzamiento + tiempoVuelo} minutos\n",
    "    El combustible restante es de: {tanqueExterno + tanqueInterno} litros\n",
    "    \"\"\"\n",
    "print(InformeGeneral(15,30,\"Saturno\",98,80))"
   ]
  },
  {
   "cell_type": "code",
   "execution_count": 1,
   "metadata": {},
   "outputs": [
    {
     "name": "stdout",
     "output_type": "stream",
     "text": [
      "\n",
      "    Mission to Moon\n",
      "    Total travel time: 76 minutes\n",
      "    Total fuel left: 500000\n",
      "    \n"
     ]
    }
   ],
   "source": [
    "# Escribe tu nueva función de reporte considerando lo anterior\n",
    "\n",
    "def InformeGeneral2(destino, *minutos, **combustible):\n",
    "    return f\"\"\"\n",
    "    Nos dirigimos a {destino}\n",
    "    Tiempo de vuelo total: {sum(minutos)} minutes\n",
    "    COmbustible restante: {sum(combustible.values())}\n",
    "    \"\"\"\n",
    "\n",
    "print(InformeGeneral2(\"Moon\", 10, 15, 51, main=300000, external=200000))\n"
   ]
  },
  {
   "cell_type": "code",
   "execution_count": 4,
   "metadata": {},
   "outputs": [
    {
     "name": "stdout",
     "output_type": "stream",
     "text": [
      "\n",
      "    Nos dirigimos a Moon\n",
      "    Tiempo de vuelo total: 149 minutes\n",
      "    COmbustible restante: 500000\n",
      "    \n"
     ]
    }
   ],
   "source": [
    "\n",
    "# Escribe tu nueva función de reporte considerando lo anterior\n",
    "\n",
    "def InformeGeneral2(destino, *minutos, **combustible):\n",
    "    return f\"\"\"\n",
    "    Nos dirigimos a {destino}\n",
    "    Tiempo de vuelo total: {sum(minutos)} minutes\n",
    "    COmbustible restante: {sum(combustible.values())}\n",
    "    \"\"\"\n",
    "    for tanque, litros in combustible.items():\n",
    "        main_report += f\"{tanque} tanque --> {litros} litros left\\n\"\n",
    "    return main_report\n",
    "print(InformeGeneral2(\"Moon\",8, 86, 55, main=300000, external=200000))\n",
    "\n"
   ]
  }
 ],
 "metadata": {
  "interpreter": {
   "hash": "8b4ee018b645261ec7b9ea66dbf654b9d2ae3de7b40191a59970037beb747771"
  },
  "kernelspec": {
   "display_name": "Python 3.10.1 64-bit",
   "language": "python",
   "name": "python3"
  },
  "language_info": {
   "codemirror_mode": {
    "name": "ipython",
    "version": 3
   },
   "file_extension": ".py",
   "mimetype": "text/x-python",
   "name": "python",
   "nbconvert_exporter": "python",
   "pygments_lexer": "ipython3",
   "version": "3.10.1"
  },
  "orig_nbformat": 4
 },
 "nbformat": 4,
 "nbformat_minor": 2
}
