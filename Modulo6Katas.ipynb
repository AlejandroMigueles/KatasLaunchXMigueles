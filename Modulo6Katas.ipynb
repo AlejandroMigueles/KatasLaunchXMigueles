{
 "cells": [
  {
   "cell_type": "markdown",
   "metadata": {},
   "source": [
    "Ejercicio1: Crear y usar listas de Python\n",
    "Ejercicio: Usar listas para almacenar nombres de planetas"
   ]
  },
  {
   "cell_type": "code",
   "execution_count": 1,
   "metadata": {},
   "outputs": [
    {
     "name": "stdout",
     "output_type": "stream",
     "text": [
      "['Mercurio', 'Venus', 'Tierra', 'Marte', 'Jupiter', 'Saturno', 'Urano', 'Neptuno']\n",
      "El primer planeta es Mercurio\n"
     ]
    }
   ],
   "source": [
    "# Creamos la lista planets y la mostramos\n",
    "planets=[\"Mercurio\",\"Venus\",\"Tierra\",\"Marte\",\"Jupiter\",\"Saturno\",\"Urano\",\"Neptuno\"]\n",
    "print(planets)\n",
    "print('El primer planeta es', planets[0])\n",
    "\n"
   ]
  },
  {
   "cell_type": "code",
   "execution_count": 2,
   "metadata": {},
   "outputs": [
    {
     "name": "stdout",
     "output_type": "stream",
     "text": [
      "There are actually 9 planets in the solar system.\n",
      "El ultimo planeta es Pluton\n",
      "['Mercurio', 'Venus', 'Tierra', 'Marte', 'Jupiter', 'Saturno', 'Urano', 'Neptuno', 'Pluton']\n"
     ]
    }
   ],
   "source": [
    "# Agregamos a plutón y mostramos el último elemento\n",
    "planets.append('Pluton')\n",
    "number_of_planets = len(planets)\n",
    "print('There are actually', number_of_planets, 'planets in the solar system.')\n",
    "print('El ultimo planeta es', planets[8])\n",
    "print(planets)"
   ]
  },
  {
   "cell_type": "markdown",
   "metadata": {},
   "source": [
    "Ejercicio 2 Trabajando con datos de una lista\n",
    "Usar slices para recuperar partes de una lista"
   ]
  },
  {
   "cell_type": "code",
   "execution_count": 8,
   "metadata": {},
   "outputs": [
    {
     "name": "stdout",
     "output_type": "stream",
     "text": [
      "Los planetas más cercanos al sol que Tierra son:\n",
      "['Mercurio', 'Venus']\n",
      "Los planetas más lejanos al sol que Tierra son:\n",
      "['Marte', 'Jupiter', 'Saturno', 'Neptuno']\n"
     ]
    }
   ],
   "source": [
    "planets=[\"Mercurio\",\"Venus\",\"Tierra\",\"Marte\",\"Jupiter\",\"Saturno\",\"Neptuno\"]\n",
    "# Solicitamos el nombre de un planeta *Pista:  input()*\n",
    "PlanetaBuscado=input(\"Introduzca el nombre del planeta que busca(LA PRIMER LETRA DEBE SER MAYÚSCULA)\")\n",
    "planetaIndex = planets.index(PlanetaBuscado)\n",
    "\n",
    "# Muestra los planetas más cercanos al sol\n",
    "print(\"Los planetas más cercanos al sol que \" + PlanetaBuscado, \"son:\")\n",
    "print(planets[0:planetaIndex])\n",
    "\n",
    "# Muestra los planetas más lejanos al sol\n",
    "print(\"Los planetas más lejanos al sol que \" + PlanetaBuscado, \"son:\")\n",
    "print(planets[planetaIndex+1:])"
   ]
  }
 ],
 "metadata": {
  "interpreter": {
   "hash": "8b4ee018b645261ec7b9ea66dbf654b9d2ae3de7b40191a59970037beb747771"
  },
  "kernelspec": {
   "display_name": "Python 3.10.1 64-bit",
   "language": "python",
   "name": "python3"
  },
  "language_info": {
   "codemirror_mode": {
    "name": "ipython",
    "version": 3
   },
   "file_extension": ".py",
   "mimetype": "text/x-python",
   "name": "python",
   "nbconvert_exporter": "python",
   "pygments_lexer": "ipython3",
   "version": "3.10.1"
  },
  "orig_nbformat": 4
 },
 "nbformat": 4,
 "nbformat_minor": 2
}
