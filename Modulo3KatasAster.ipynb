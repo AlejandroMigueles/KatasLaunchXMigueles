{
 "cells": [
  {
   "cell_type": "code",
   "execution_count": null,
   "metadata": {},
   "outputs": [],
   "source": []
  },
  {
   "cell_type": "markdown",
   "metadata": {},
   "source": [
    "#Ejercicio 1"
   ]
  },
  {
   "cell_type": "code",
   "execution_count": 2,
   "metadata": {},
   "outputs": [
    {
     "name": "stdout",
     "output_type": "stream",
     "text": [
      "Bienvenido al sistema de deteccion de asteroides\n",
      "¡Alerta!, un asteroide se aproxima a la tierra\n",
      "Su velocidad presenta un riesgo\n"
     ]
    }
   ],
   "source": [
    "print(\"Bienvenido al sistema de deteccion de asteroides\")\n",
    "Asteroide=input(\"Ingrese la velocidad del asteroide\")\n",
    "Asteroide=int(Asteroide)\n",
    "if Asteroide>25:\n",
    " print(\"¡Alerta!, un asteroide se aproxima a la tierra\")\n",
    " print(\"Su velocidad presenta un riesgo\")\n",
    "else:\n",
    "     print(\"Descuida, no hay de que preocuparse\")"
   ]
  },
  {
   "cell_type": "markdown",
   "metadata": {},
   "source": [
    "#Ejercicio 2\n",
    "Añadir el código necesario para crear una variable que guarde la velocidad del asteroide.\n",
    "Escribe una expresión de prueba para calcular si necesita una advertencia.\n",
    "Agregue las instrucciones que se ejecutarán si la expresión de prueba es true o false."
   ]
  },
  {
   "cell_type": "code",
   "execution_count": 6,
   "metadata": {},
   "outputs": [
    {
     "name": "stdout",
     "output_type": "stream",
     "text": [
      "No hay nada por ver, sigue con tu día\n"
     ]
    }
   ],
   "source": [
    "asteroide = 19\n",
    "if asteroide >= 20:\n",
    "    print(\"Mira al cielo, podrás ver un hermoso espectáculo\")\n",
    "else:\n",
    "    print(\"No hay nada por ver, sigue con tu día\")"
   ]
  },
  {
   "cell_type": "markdown",
   "metadata": {},
   "source": [
    "#Ejercicio 3\n",
    "Agrega el código para crear nuevas variables para la velocidad y el tamaño del asteroide\n",
    "Para probar el código, prueba con varias velocidades y tamaños\n",
    "Escribe varias expresiones de prueba o combinaciones de expresiones de prueba para determinar qué mensaje se debe enviar a Tierra."
   ]
  },
  {
   "cell_type": "code",
   "execution_count": 8,
   "metadata": {},
   "outputs": [
    {
     "name": "stdout",
     "output_type": "stream",
     "text": [
      "Bienvenido al sistema de detección de asteroides\n",
      "Mira al cielo, podrás ver un hermoso espectáculo\n"
     ]
    }
   ],
   "source": [
    "print(\"Bienvenido al sistema de detección de asteroides\")\n",
    "velAsteroide = input(\"Introduzca la velocidad del asteroide\")\n",
    "tamAsteroide = input(\"Introduzca el tamaño del asteroide\")\n",
    "velAsteroide=int(velAsteroide)\n",
    "tamAsteroide=int(tamAsteroide)\n",
    "\n",
    "if velAsteroide > 25 and tamAsteroide > 25:\n",
    "    print('¡peligro, Un asteroide se acerca a la Tierra!')\n",
    "elif velAsteroide >= 20:\n",
    "    print(\"Mira al cielo, podrás ver un hermoso espectáculo\")\n",
    "elif tamAsteroide < 25:\n",
    "    print(\"No hay nada por ver, sigue con tu día\")\n",
    "else:\n",
    "    print(\"No hay nada por ver, sigue con tu día\")"
   ]
  }
 ],
 "metadata": {
  "interpreter": {
   "hash": "8b4ee018b645261ec7b9ea66dbf654b9d2ae3de7b40191a59970037beb747771"
  },
  "kernelspec": {
   "display_name": "Python 3.10.1 64-bit",
   "language": "python",
   "name": "python3"
  },
  "language_info": {
   "codemirror_mode": {
    "name": "ipython",
    "version": 3
   },
   "file_extension": ".py",
   "mimetype": "text/x-python",
   "name": "python",
   "nbconvert_exporter": "python",
   "pygments_lexer": "ipython3",
   "version": "3.10.1"
  },
  "orig_nbformat": 4
 },
 "nbformat": 4,
 "nbformat_minor": 2
}
