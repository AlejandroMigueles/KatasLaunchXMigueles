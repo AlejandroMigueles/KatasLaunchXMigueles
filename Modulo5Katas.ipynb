{
 "cells": [
  {
   "cell_type": "markdown",
   "metadata": {},
   "source": [
    "Ejercicio 1"
   ]
  },
  {
   "cell_type": "code",
   "execution_count": 3,
   "metadata": {},
   "outputs": [
    {
     "name": "stdout",
     "output_type": "stream",
     "text": [
      "763587430\n",
      "474187794.03\n"
     ]
    }
   ],
   "source": [
    "# Crear variables para almacenar las dos distancias\n",
    "# ¡Asegúrate de quitar las comas!\n",
    "Tierra=14959770\n",
    "Jupiter=778547200\n",
    "\n",
    "# Calcular la distancia entre planetas\n",
    "distPlanetas=abs(Tierra-Jupiter)\n",
    "distPlanetasmillas=distPlanetas*0.621\n",
    "print(distPlanetas)\n",
    "print(distPlanetasmillas)"
   ]
  },
  {
   "cell_type": "markdown",
   "metadata": {},
   "source": [
    "Ejercicio 2"
   ]
  },
  {
   "cell_type": "code",
   "execution_count": 5,
   "metadata": {},
   "outputs": [
    {
     "name": "stdout",
     "output_type": "stream",
     "text": [
      "la distancia entre los planetas es 4 kilómetros\n",
      "O bien: la distancia entre planetas es de  2.484 millas\n"
     ]
    }
   ],
   "source": [
    "# Almacenar las entradas del usuario\n",
    "planetaUno = input('Introduzca la distancia desde el sol para el planeta 1 en km')\n",
    "planetaDos = input('Introduzca la distancia desde el sol para el planeta 2 en km')\n",
    "\n",
    "# Convierte las cadenas de ambos planetas a números enteros\n",
    "planetaUno=int(planetaUno)\n",
    "planetaDos=int(planetaDos)\n",
    "\n",
    "# Realizar el cálculo y determinar el valor absoluto\n",
    "distPlanetas=abs(planetaUno-planetaDos)\n",
    "distPlanetasmillas=distPlanetas*0.621\n",
    "print(\"la distancia entre los planetas es\", distPlanetas, \"kilómetros\")\n",
    "print(\"O bien: la distancia entre planetas es de \",distPlanetasmillas, \"millas\")"
   ]
  }
 ],
 "metadata": {
  "interpreter": {
   "hash": "8b4ee018b645261ec7b9ea66dbf654b9d2ae3de7b40191a59970037beb747771"
  },
  "kernelspec": {
   "display_name": "Python 3.10.1 64-bit",
   "language": "python",
   "name": "python3"
  },
  "language_info": {
   "codemirror_mode": {
    "name": "ipython",
    "version": 3
   },
   "file_extension": ".py",
   "mimetype": "text/x-python",
   "name": "python",
   "nbconvert_exporter": "python",
   "pygments_lexer": "ipython3",
   "version": "3.10.1"
  },
  "orig_nbformat": 4
 },
 "nbformat": 4,
 "nbformat_minor": 2
}
